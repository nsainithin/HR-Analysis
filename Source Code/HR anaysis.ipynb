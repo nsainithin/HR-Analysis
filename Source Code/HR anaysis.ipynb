{
 "cells": [
  {
   "cell_type": "code",
   "execution_count": null,
   "id": "089d0835-988c-490e-b7a4-7a95b091d7fa",
   "metadata": {},
   "outputs": [],
   "source": [
    "import pandas as pd\n",
    "\n",
    "# Load the datasets\n",
    "train_df = pd.read_csv('train.csv')\n",
    "test_df = pd.read_csv('test.csv')\n",
    "sample_submission = pd.read_csv('sample_submission.csv')\n",
    "\n",
    "# Display the first few rows of each dataframe to understand their structure\n",
    "train_df.head(), test_df.head(), sample_submission.head()\n"
   ]
  },
  {
   "cell_type": "code",
   "execution_count": null,
   "id": "d2dad5a2-2826-41cf-9b82-9dc202a4507c",
   "metadata": {},
   "outputs": [],
   "source": [
    "from sklearn.model_selection import train_test_split\n",
    "from sklearn.ensemble import RandomForestClassifier\n",
    "from sklearn.preprocessing import LabelEncoder\n",
    "from sklearn.impute import SimpleImputer\n",
    "from sklearn.metrics import classification_report\n",
    "import numpy as np"
   ]
  },
  {
   "cell_type": "code",
   "execution_count": null,
   "id": "104db559-12a9-4290-ba51-fde12c7d4bff",
   "metadata": {},
   "outputs": [],
   "source": [
    "# Combine train and test for consistent preprocessing\n",
    "train_df['is_test'] = 0\n",
    "test_df['is_test'] = 1\n",
    "test_df['is_promoted'] = np.nan  # Placeholder for alignment\n",
    "\n",
    "combined_df = pd.concat([train_df, test_df], ignore_index=True)\n",
    "combined_df.head()\n"
   ]
  },
  {
   "cell_type": "code",
   "execution_count": null,
   "id": "8ff13fa4-41bf-40d7-895e-58cb6b0fa352",
   "metadata": {},
   "outputs": [],
   "source": [
    "# Encode categorical features\n",
    "categorical_cols = ['department', 'region', 'education', 'gender', 'recruitment_channel']\n",
    "label_encoders = {}\n",
    "for col in categorical_cols:\n",
    "    le = LabelEncoder()\n",
    "    combined_df[col] = le.fit_transform(combined_df[col].astype(str))\n",
    "    label_encoders[col] = le\n"
   ]
  },
  {
   "cell_type": "code",
   "execution_count": null,
   "id": "0977c341-7ddf-4df6-af58-12235922e6af",
   "metadata": {},
   "outputs": [],
   "source": [
    "# Handle missing values\n",
    "imputer = SimpleImputer(strategy='most_frequent')\n",
    "combined_df[['previous_year_rating']] = imputer.fit_transform(combined_df[['previous_year_rating']])\n"
   ]
  },
  {
   "cell_type": "code",
   "execution_count": null,
   "id": "7e2745d2-d337-46a6-9c9a-31bac155399a",
   "metadata": {},
   "outputs": [],
   "source": [
    "# Split back into train and test\n",
    "train_processed = combined_df[combined_df['is_test'] == 0].drop(columns=['is_test'])\n",
    "test_processed = combined_df[combined_df['is_test'] == 1].drop(columns=['is_test', 'is_promoted'])\n"
   ]
  },
  {
   "cell_type": "code",
   "execution_count": null,
   "id": "79479bbc-4516-4403-80d0-7686012c4316",
   "metadata": {},
   "outputs": [],
   "source": [
    "# Features and target\n",
    "X = train_processed.drop(columns=['employee_id', 'is_promoted'])\n",
    "y = train_processed['is_promoted']\n",
    "X_test_final = test_processed.drop(columns=['employee_id'])"
   ]
  },
  {
   "cell_type": "code",
   "execution_count": null,
   "id": "299cc3cd-a4e5-4852-b13a-80b18bcc6992",
   "metadata": {},
   "outputs": [],
   "source": [
    " #Train/test split for validation\n",
    "X_train, X_val, y_train, y_val = train_test_split(X, y, test_size=0.2, random_state=42, stratify=y)\n"
   ]
  },
  {
   "cell_type": "code",
   "execution_count": null,
   "id": "822afd1c-b141-41c1-bffe-8ca7273b89e7",
   "metadata": {},
   "outputs": [],
   "source": [
    "# Train a Random Forest model\n",
    "model = RandomForestClassifier(n_estimators=100, random_state=42, class_weight='balanced')\n",
    "model.fit(X_train, y_train)"
   ]
  },
  {
   "cell_type": "code",
   "execution_count": null,
   "id": "7733a293-8846-4243-834f-71d912f8f25d",
   "metadata": {},
   "outputs": [],
   "source": [
    "# Evaluate on validation set\n",
    "y_val_pred = model.predict(X_val)\n",
    "classification_report_output = classification_report(y_val, y_val_pred)\n",
    "classification_report_output"
   ]
  },
  {
   "cell_type": "code",
   "execution_count": null,
   "id": "bcd76c86-8aaf-45ce-85ef-e8bcefe4952b",
   "metadata": {},
   "outputs": [],
   "source": [
    "# Predict on the test data\n",
    "test_predictions = model.predict(X_test_final)\n"
   ]
  },
  {
   "cell_type": "code",
   "execution_count": null,
   "id": "da5f4abc-4601-47f5-a6be-1d7d6013128b",
   "metadata": {},
   "outputs": [],
   "source": [
    "# Prepare the submission file\n",
    "submission = test_df[['employee_id']].copy()\n",
    "submission['is_promoted'] = test_predictions.astype(int)\n"
   ]
  },
  {
   "cell_type": "code",
   "execution_count": null,
   "id": "8ccb61f5-1511-4253-976b-9eca920e7154",
   "metadata": {},
   "outputs": [],
   "source": [
    "# Save submission file\n",
    "submission_path = 'promotion_submission.csv'\n",
    "submission.to_csv(submission_path, index=False)\n",
    "\n",
    "submission.head(), submission_path"
   ]
  },
  {
   "cell_type": "code",
   "execution_count": null,
   "id": "62d9a3e3-b932-4040-a559-c7efc4edf21e",
   "metadata": {},
   "outputs": [],
   "source": []
  }
 ],
 "metadata": {
  "kernelspec": {
   "display_name": "Python [conda env:base] *",
   "language": "python",
   "name": "conda-base-py"
  },
  "language_info": {
   "codemirror_mode": {
    "name": "ipython",
    "version": 3
   },
   "file_extension": ".py",
   "mimetype": "text/x-python",
   "name": "python",
   "nbconvert_exporter": "python",
   "pygments_lexer": "ipython3",
   "version": "3.12.7"
  }
 },
 "nbformat": 4,
 "nbformat_minor": 5
}
